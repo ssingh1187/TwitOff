{
 "cells": [
  {
   "cell_type": "markdown",
   "metadata": {},
   "source": [
    "_Lambda School Data Science_\n",
    "## Productization Module 3, [Adding Data Science to a Web AppIication](https://github.com/LambdaSchool/DS-Unit-3-Sprint-4-Productization-and-Cloud/blob/master/module3-adding-data-science-to-a-web-application/README.md)\n",
    "\n",
    "## Today's Plan:\n",
    "\n",
    "### Templates (provided for you)\n",
    "- `base.html`\n",
    "- `prediction.html`\n",
    "- `user.html`\n",
    "\n",
    "### Functions (added by you)\n",
    "\n",
    "#### `twitter.py`\n",
    "- `add_or_update_user`\n",
    "- `add_users`\n",
    "- `update_all_users`\n",
    "\n",
    "#### `predict.py`\n",
    "- `predict_user`\n",
    "\n",
    "#### `app.py`\n",
    "- ` @app.route('/user/<name>', methods=['GET'])`\n",
    "- ` @app.route('/user', methods=['POST'])`\n",
    "- ` @app.route('/compare', methods=['POST'])`\n",
    "- ` @app.route('/update')`"
   ]
  },
  {
   "cell_type": "markdown",
   "metadata": {},
   "source": [
    "#### [GET and POST methods, explained](https://developer.mozilla.org/en-US/docs/Web/HTTP/Session#Request_methods)\n",
    "\n",
    "HTTP defines a set of request methods indicating the desired action to be performed upon a resource. The most common requests are `GET` and `POST`:\n",
    "\n",
    "- The `GET` method requests a data representation of the specified resource. Requests using `GET` should only retrieve data.\n",
    "- The `POST` method sends data to a server so it may change its state. This is the method often used for HTML Forms.\n"
   ]
  },
  {
   "cell_type": "markdown",
   "metadata": {},
   "source": [
    "# 1. route `/user/<name>`"
   ]
  },
  {
   "cell_type": "markdown",
   "metadata": {},
   "source": [
    "### Prototype interactively"
   ]
  },
  {
   "cell_type": "code",
   "execution_count": 9,
   "metadata": {},
   "outputs": [
    {
     "data": {
      "text/plain": [
       "['APP',\n",
       " 'In',\n",
       " 'Out',\n",
       " '_',\n",
       " '_3',\n",
       " '_4',\n",
       " '_7',\n",
       " '__',\n",
       " '___',\n",
       " '__builtin__',\n",
       " '__builtins__',\n",
       " '__doc__',\n",
       " '__loader__',\n",
       " '__name__',\n",
       " '__package__',\n",
       " '__spec__',\n",
       " '_dh',\n",
       " '_i',\n",
       " '_i1',\n",
       " '_i2',\n",
       " '_i3',\n",
       " '_i4',\n",
       " '_i5',\n",
       " '_i6',\n",
       " '_i7',\n",
       " '_i8',\n",
       " '_i9',\n",
       " '_ih',\n",
       " '_ii',\n",
       " '_iii',\n",
       " '_oh',\n",
       " 'create_app',\n",
       " 'exit',\n",
       " 'get_ipython',\n",
       " 'quit']"
      ]
     },
     "execution_count": 9,
     "metadata": {},
     "output_type": "execute_result"
    }
   ],
   "source": [
    "dir()"
   ]
  },
  {
   "cell_type": "code",
   "execution_count": 10,
   "metadata": {},
   "outputs": [
    {
     "data": {
      "text/plain": [
       "<Flask 'twitoff.app'>"
      ]
     },
     "execution_count": 10,
     "metadata": {},
     "output_type": "execute_result"
    }
   ],
   "source": [
    "APP"
   ]
  },
  {
   "cell_type": "code",
   "execution_count": 11,
   "metadata": {},
   "outputs": [
    {
     "name": "stdout",
     "output_type": "stream",
     "text": [
      "We're hiring a research and curriculum development team!\n",
      "\n",
      "This team will help build an engine for identifying and building incredible courses at breathtaking speed.\n",
      "\n",
      "Help us build \"Lambda School for x\" across dozens of verticals. https://t.co/3o9l1Puw0o\n",
      "Lol https://t.co/bTul8SUSyi\n",
      "One of the most common things we experience when working with companies hiring engineers is if you ask three people within the same company what they're looking for they'll all give you different answers\n",
      "“Show me the incentives and I will show you the outcome.” - Munger\n",
      "Makes you wonder what kind of gains there would be in government contracts if the incentives were carefully designed.\n",
      "\n",
      "“If you come in under $x you keep half of the difference” is a hell of a motivator.\n",
      "\n",
      "https://t.co/LlRabVfHH9 (h/t @patrickc) https://t.co/7uKw20TENi\n",
      "One of the things I’ve found myself thinking a lot about is @justGLew’s “little things are big things.”\n",
      "\n",
      "Tiny decisions and actions compound. \n",
      "\n",
      "I find when I’m off in one area of life I’m off in everything.\n",
      "I don’t even hear about people hired making 3-4x what they used to until I check our stats.\n",
      "\n",
      "That’s always a fantastic surprise. https://t.co/z4EYi0vYOF\n",
      "Can’t imagine how scary it must have been to make that jump.\n",
      "\n",
      "From high school orchestra teacher (for ten years) to software engineer, hired before graduation.\n",
      "\n",
      "Congratulations Matt! https://t.co/lhm6z02cgU\n",
      "I love that Rippling used a memo instead of a deck to raise, but you have to admit the steps to raising for them really were:\n",
      "\n",
      "1. Be Parker Conrad\n",
      "2. Have a revenue *growth* graph that is up and to the right while building on double digit million ARR (🤯) https://t.co/MBXWpgoKrU\n",
      "I’m not a PR expert, but I’ve got to think, “let’s organize to make people miss their flights” is not a winning strategy https://t.co/2nWNSp7V6z\n",
      "Based on what I know about invention the key is accidentally dropping things on hot stoves https://t.co/oB8Hl1Axah\n",
      "What % of tax filings could be 100% automated? If the government guessed as to what your return should look like, it’d probably be 100% right... 90% of the time? https://t.co/CSS9KgQv8v\n",
      "Just hit 24 Lambda School students with job offers so far this month. We're 9 days in.\n",
      "There is nothing better than talking to recently hired Lambda School grads https://t.co/zRfvxTMFBI\n",
      "I declare DM bankruptcy again, just FYI. Honestly considering locking it down.\n",
      "Here's what few people get about ISAs:\n",
      "\n",
      "If you don't have good terms, you have negative selection bias, and ISAs won't perform.\n",
      "\n",
      "To avoid selection bias you need to have both great terms &amp; great outcomes.\n",
      "\n",
      "If any of that is off it all fails.\n",
      "In the next couple years Lambda School could have an ISA payment cap lower than the upfront cost of code schools today.\n",
      "\n",
      "Better education, better outcomes, no financial risk, no payment if you’re not hired, and cheaper in literally every scenario.\n",
      "Lambda School is hiring a GM of India.\n",
      "\n",
      "This person will be well compensated ($115k/yr US = 79 lakhs/yr), and will own the entire P&amp;L.\n",
      "\n",
      "Someone technical, Indian roots + experience at high-growth startup(s). Experience at top SV companies/founding ideal.\n",
      "\n",
      "indiagm@lambdaschool.com\n",
      "Meet three more Lambda School students! \n",
      "\n",
      "Help any of them get hired and we'll pay you $1,000.\n",
      "\n",
      "Email the address for each and I'll connect you with them &amp; your career coach immediately.\n",
      "LAMBDA SCHOOL!!!\n",
      "Despite better judgment I'm at a conference. If you're at ASU/GSV say hello.\n",
      "Lambda School is building out an engineering team in our San Francisco office to help our efforts scale. \n",
      "\n",
      "Starting with a Director of Engineering.\n",
      "\n",
      "Director: https://t.co/htRVhrMM2l\n",
      "Few people realize this, but a *whole lot* of the university educational experience is already being outsourced https://t.co/zM2Wr2YuTW\n",
      "2U to acquire Trilogy Education for $750m https://t.co/6cVIpwuYOr.\n",
      "\n",
      "First real exit in the space.\n",
      "Stumbled into Communist twitter debating the merits of Lambda School.\n",
      "\n",
      "Have a hunch we’re not gonna see eye to eye.\n",
      "A VC picks up a $100 bill from off the ground.\n",
      "\n",
      "Twenty other VCs start crawling around looking for the other $50 bills that must certainly be nearby. https://t.co/oM6R2EFey3\n",
      "If we can fix the misallocation of human capital, what impact would that have on economic productivity? On GDP?\n",
      "\n",
      "We have the biggest, most unoptimized asset class ever right in front of us, one that directly impacts everyone, and very few directly doing anything about it.\n",
      "Lambda team: don’t take this for granted, even if folks outside assume it’s true. We’re nowhere close to having won yet. https://t.co/LtsEQOFeRB\n",
      "Apparently my daughter figured out how to tweet pictures, which my wife saw and deleted, but I like this one so I’m tweeting it again https://t.co/h5Tn5oMZe9\n",
      "You would think given the character limit people would be super generous on Twitter in giving the benefit of the doubt when interpreting what someone says.\n",
      "\n",
      "Somehow it’s the complete opposite. The most nitpicky platform ever.\n",
      "ATTENTION INDIA\n",
      "\n",
      "If you’re a company in India and would like to hire Lambda School graduates soon\n",
      "\n",
      "Email india@lambdaschool.com with:\n",
      "\n",
      "* Name of company\n",
      "* City/location\n",
      "* Number of hires/year (approximate)\n",
      "* Role(s)\n",
      "* Salary (in lakhs)\n",
      "\n",
      "Let’s just say your wish just may come true\n",
      "I have a problem https://t.co/4a8HxtonZa\n",
      "It’s Lambda School meetup day!\n",
      "\n",
      "Just a sampler:\n",
      "\n",
      "Miami\n",
      "Boston\n",
      "Arkansas\n",
      "Oklahoma https://t.co/F9op3FdY2e\n",
      "The past 4 days at Lambda School:\n",
      "\n",
      "19 students with job offers\n",
      "\n",
      "13 hired at companies that have hired multiple students\n",
      "Geez, they keep rolling in.\n",
      "\n",
      "10 Lambda School students with job offers today alone 🤯\n",
      "Edit: 13 of the 17 offers received by Lambda School students in the past 4 days are at companies that have hired more than one student.\n",
      "\n",
      "It's happening. https://t.co/j6LWqajyuO\n",
      "Technically equity is an uncapped unsecured loan with variable payback based on performance and no covenants and a forgiveness clause, sure.\n",
      "\n",
      "Technically a bus is just a car with a lot of people that makes planned stops.\n",
      "\n",
      "There are reasons we create new words for things. https://t.co/hivIdbl4RD\n",
      "Of the 14 job offers Lambda School students have received in the past 4 days, 10 are at companies that have hired more than one student 🧐\n",
      "Students pay for this tech school with a share of their earnings. Could it be the future of college finance?\n",
      "\n",
      "Today in the LA Times via @tylercowen \n",
      "\n",
      "https://t.co/2cJLT613mT\n",
      "Amazing https://t.co/sfamA85taH\n",
      "San Francisco is such a wild place.\n",
      "\n",
      "“Sure nobody can afford to live here, but we painstakingly built that parking lot. \n",
      "\n",
      "That laundromat was built in the 70s and now has historical significance. Plus the new building would cast a shadow, so...”\n",
      "It’s a parking lot. This tweet is literally describing a parking lot. https://t.co/gZ2VOAF6AG\n"
     ]
    }
   ],
   "source": [
    "from twitoff.__init__ import *\n",
    "from twitoff.twitter import *\n",
    "\n",
    "with APP.app_context():\n",
    "    name = 'Austen'\n",
    "    tweets = User.query.filter(User.name == name).one().tweets\n",
    "    for tweet in tweets:\n",
    "        print(tweet.text)"
   ]
  },
  {
   "cell_type": "markdown",
   "metadata": {},
   "source": [
    "`with APP.app_context` was needed above, because we're running from a notebook instead of inside `flask run` or `flask shell`. For more information, see:\n",
    "\n",
    "- http://flask-sqlalchemy.pocoo.org/2.3/contexts/\n",
    "- http://flask.pocoo.org/docs/1.0/appcontext/"
   ]
  },
  {
   "cell_type": "markdown",
   "metadata": {},
   "source": [
    "### Route in `TwitOff/twitoff/app.py`\n",
    "\n",
    "Within the `create_app` factory function\n",
    "\n",
    "```\n",
    "    @app.route('/user/<name>')\n",
    "    def user(name):\n",
    "        tweets = User.query.filter(User.name == name).one().tweets\n",
    "        return render_template('user.html', title=name, tweets=tweets)\n",
    "```\n"
   ]
  },
  {
   "cell_type": "markdown",
   "metadata": {},
   "source": [
    "### Template at `TwitOff/twitoff/templates/user.html`\n",
    "\n",
    "`user.html` is like `base.html` except with a for loop iterating over tweets instead of users:\n",
    "\n",
    "```\n",
    "        {% for tweet in tweets %}\n",
    "        <span class=\"stack\">{{ tweet.text }}</span>\n",
    "        {% endfor %}\n",
    "```"
   ]
  },
  {
   "cell_type": "markdown",
   "metadata": {},
   "source": [
    "# 2. Add new user \n",
    "\n",
    "### From notebook!"
   ]
  },
  {
   "cell_type": "markdown",
   "metadata": {},
   "source": [
    "With [tqdm](https://github.com/tqdm/tqdm) for progress bars!"
   ]
  },
  {
   "cell_type": "code",
   "execution_count": 12,
   "metadata": {},
   "outputs": [],
   "source": [
    "from tqdm.auto import tqdm"
   ]
  },
  {
   "cell_type": "code",
   "execution_count": 13,
   "metadata": {},
   "outputs": [],
   "source": [
    "from twitoff.__init__ import *\n",
    "from twitoff.twitter import *\n",
    "\n",
    "def add_user(username):\n",
    "    \"\"\"Add a user and their Tweets\"\"\"\n",
    "    twitter_user = TWITTER.get_user(username)\n",
    "    db_user = User(id=twitter_user.id, name=username)\n",
    "    DB.session.add(db_user)\n",
    "    \n",
    "    # We want as many recent non-retweet/reply statuses as we can get\n",
    "    # 200 is a Twitter API limit, we'll usually see less due to exclusions\n",
    "    tweets = twitter_user.timeline(\n",
    "        count=200, exclude_replies=True, include_rts=False,\n",
    "        tweet_mode='extended')\n",
    "    db_user.newest_tweet_id = tweets[0].id\n",
    "    \n",
    "    # tqdm adds progress bar\n",
    "    for tweet in tqdm(tweets): \n",
    "        # Calculate embedding on the full tweet, but truncate for storing\n",
    "        embedding = BASILICA.embed_sentence(tweet.full_text,\n",
    "                                            model='twitter')\n",
    "        db_tweet = Tweet(id=tweet.id, text=tweet.full_text[:300],\n",
    "                         embedding=embedding)\n",
    "        db_user.tweets.append(db_tweet)\n",
    "        DB.session.add(db_tweet)\n",
    "\n",
    "    DB.session.commit()"
   ]
  },
  {
   "cell_type": "code",
   "execution_count": 15,
   "metadata": {},
   "outputs": [
    {
     "data": {
      "application/vnd.jupyter.widget-view+json": {
       "model_id": "54893202f04b4a17bad33c8c9b9a3b10",
       "version_major": 2,
       "version_minor": 0
      },
      "text/plain": [
       "HBox(children=(IntProgress(value=0, max=25), HTML(value='')))"
      ]
     },
     "metadata": {},
     "output_type": "display_data"
    },
    {
     "name": "stdout",
     "output_type": "stream",
     "text": [
      "\n"
     ]
    }
   ],
   "source": [
    "with APP.app_context():\n",
    "    add_user('elonmusk')"
   ]
  },
  {
   "cell_type": "markdown",
   "metadata": {},
   "source": [
    "## Make it fault-tolerant: add _or update_ user\n",
    "\n",
    "What if you try to add a user that's already been added? You get a database error:\n",
    "\n",
    "> IntegrityError: UNIQUE constraint failed: user.id\n",
    "\n",
    "So, we'll make our function fault-tolerant and \"idempotent\"!\n",
    "\n",
    "#### [Idempotent REST APIs](https://restfulapi.net/idempotent-rest-apis/)\n",
    "\n",
    "> When making multiple identical requests has the same effect as making a single request – then that REST API is called idempotent.\n",
    "\n",
    ">When you design REST APIs, you must realize that API consumers can make mistakes. They can write client code in such a way that there can be duplicate requests as well. These duplicate requests may be unintentional as well as intentional some time (e.g. due to timeout or network issues). You have to design fault-tolerant APIs in such a way that duplicate requests do not leave the system unstable."
   ]
  },
  {
   "cell_type": "markdown",
   "metadata": {},
   "source": [
    "So, instead of assigning `db_user` to a new `User` ...\n",
    "\n",
    "```\n",
    "db_user = User(...)\n",
    "```\n",
    "\n",
    "We can assign `db_user` to an existing `User` **or** a new `User`:\n",
    "\n",
    "```\n",
    "    db_user = (User.query.get(twitter_user.id) or\n",
    "               User(id=twitter_user.id, name=username))\n",
    "```\n",
    "\n",
    "This is a common pattern in web applications. If `User.query.get(twitter_user.id)` returns `None`, that is `False`-y, so then `db_user` is assigned to the new `User(id=twitter_user.id, name=username))` instead.\n",
    "\n",
    "Here's a simpler demo of how **`or`** works in Python:"
   ]
  },
  {
   "cell_type": "code",
   "execution_count": 10,
   "metadata": {},
   "outputs": [
    {
     "data": {
      "text/plain": [
       "1"
      ]
     },
     "execution_count": 10,
     "metadata": {},
     "output_type": "execute_result"
    }
   ],
   "source": [
    "1 or 2"
   ]
  },
  {
   "cell_type": "code",
   "execution_count": 8,
   "metadata": {},
   "outputs": [
    {
     "data": {
      "text/plain": [
       "2"
      ]
     },
     "execution_count": 8,
     "metadata": {},
     "output_type": "execute_result"
    }
   ],
   "source": [
    "None or 2"
   ]
  },
  {
   "cell_type": "markdown",
   "metadata": {},
   "source": [
    "And now here's our `add_or_update_user` function:"
   ]
  },
  {
   "cell_type": "code",
   "execution_count": 16,
   "metadata": {},
   "outputs": [],
   "source": [
    "def add_or_update_user(username):\n",
    "    \"\"\"Add or update a user and their Tweets\"\"\"\n",
    "    twitter_user = TWITTER.get_user(username)\n",
    "    db_user = (User.query.get(twitter_user.id) or\n",
    "               User(id=twitter_user.id, name=username))\n",
    "    DB.session.add(db_user)\n",
    "    \n",
    "    # We want as many recent non-retweet/reply statuses as we can get\n",
    "    # 200 is a Twitter API limit, we'll usually see less due to exclusions\n",
    "    tweets = twitter_user.timeline(\n",
    "        count=200, exclude_replies=True, include_rts=False,\n",
    "        tweet_mode='extended', since_id=db_user.newest_tweet_id)\n",
    "    if tweets:\n",
    "        db_user.newest_tweet_id = tweets[0].id\n",
    "        \n",
    "    # tqdm adds progress bar    \n",
    "    for tweet in tqdm(tweets):\n",
    "        # Calculate embedding on the full tweet, but truncate for storing\n",
    "        embedding = BASILICA.embed_sentence(tweet.full_text,\n",
    "                                            model='twitter')\n",
    "        db_tweet = Tweet(id=tweet.id, text=tweet.full_text[:300],\n",
    "                         embedding=embedding)\n",
    "        db_user.tweets.append(db_tweet)\n",
    "        DB.session.add(db_tweet)\n",
    "        \n",
    "    DB.session.commit()"
   ]
  },
  {
   "cell_type": "markdown",
   "metadata": {},
   "source": [
    "Two more changes were made in the function above. \n",
    "\n",
    "[Tweepy has a `since_id` parameter:](http://docs.tweepy.org/en/3.7.0/api.html?highlight=since_id)\n",
    "\n",
    "> `since_id` – Returns only statuses with an ID greater than (that is, more recent than) the specified ID.\n",
    "\n",
    "We use this parameter so we don't re-retrieve and re-embed tweets we already have in the database. (If `db_user.newest_tweet_id` is `None` then Tweepy gets all the tweets.)\n",
    "\n",
    "Also, we check whether a user has any tweets before trying to access the id of their 0th tweet. (This will prevent an error if a user doesn't have any tweets.)\n",
    "\n",
    "```\n",
    "    if tweets:\n",
    "        db_user.newest_tweet_id = tweets[0].id\n",
    "```\n",
    "\n",
    "Now the function is \"idempotent\"!"
   ]
  },
  {
   "cell_type": "code",
   "execution_count": 17,
   "metadata": {},
   "outputs": [
    {
     "data": {
      "application/vnd.jupyter.widget-view+json": {
       "model_id": "c272aef5f2bf45a39e9b11d32466ca7d",
       "version_major": 2,
       "version_minor": 0
      },
      "text/plain": [
       "HBox(children=(IntProgress(value=1, bar_style='info', max=1), HTML(value='')))"
      ]
     },
     "metadata": {},
     "output_type": "display_data"
    },
    {
     "name": "stdout",
     "output_type": "stream",
     "text": [
      "\n"
     ]
    }
   ],
   "source": [
    "with APP.app_context():\n",
    "    add_or_update_user('KenJennings')"
   ]
  },
  {
   "cell_type": "markdown",
   "metadata": {},
   "source": [
    "### We can add more fault-tolerance, with try / except / else blocks"
   ]
  },
  {
   "cell_type": "code",
   "execution_count": 18,
   "metadata": {},
   "outputs": [],
   "source": [
    "def add_or_update_user(username):\n",
    "    \"\"\"Add or update a user and their Tweets, error if not a Twitter user.\"\"\"\n",
    "    try:\n",
    "        twitter_user = TWITTER.get_user(username)\n",
    "        db_user = (User.query.get(twitter_user.id) or\n",
    "                   User(id=twitter_user.id, name=username))\n",
    "        DB.session.add(db_user)\n",
    "        # We want as many recent non-retweet/reply statuses as we can get\n",
    "        # 200 is a Twitter API limit, we'll usually see less due to exclusions\n",
    "        tweets = twitter_user.timeline(\n",
    "            count=200, exclude_replies=True, include_rts=False,\n",
    "            tweet_mode='extended', since_id=db_user.newest_tweet_id)\n",
    "        if tweets:\n",
    "            db_user.newest_tweet_id = tweets[0].id         \n",
    "        # tqdm adds progress bar\n",
    "        for tweet in tqdm(tweets):\n",
    "            # Calculate embedding on the full tweet, but truncate for storing\n",
    "            embedding = BASILICA.embed_sentence(tweet.full_text,\n",
    "                                                model='twitter')\n",
    "            db_tweet = Tweet(id=tweet.id, text=tweet.full_text[:300],\n",
    "                             embedding=embedding)\n",
    "            db_user.tweets.append(db_tweet)\n",
    "            DB.session.add(db_tweet)\n",
    "    except Exception as e:\n",
    "        print('Error processing {}: {}'.format(username, e))\n",
    "        raise e\n",
    "    else:\n",
    "        DB.session.commit()"
   ]
  },
  {
   "cell_type": "markdown",
   "metadata": {},
   "source": [
    "# 2. Add multiple users"
   ]
  },
  {
   "cell_type": "code",
   "execution_count": 19,
   "metadata": {},
   "outputs": [],
   "source": [
    "def add_users(users):\n",
    "    \"\"\"\n",
    "    Add/update a list of users (strings of user names).\n",
    "    May take awhile, so run \"offline\" (interactive shell).\n",
    "    \"\"\"\n",
    "    # tqdm adds progress bar\n",
    "    for user in tqdm(users):\n",
    "        add_or_update_user(user)"
   ]
  },
  {
   "cell_type": "code",
   "execution_count": 20,
   "metadata": {},
   "outputs": [
    {
     "data": {
      "application/vnd.jupyter.widget-view+json": {
       "model_id": "efcdf5e982a647e685815a9315370357",
       "version_major": 2,
       "version_minor": 0
      },
      "text/plain": [
       "HBox(children=(IntProgress(value=0, max=3), HTML(value='')))"
      ]
     },
     "metadata": {},
     "output_type": "display_data"
    },
    {
     "data": {
      "application/vnd.jupyter.widget-view+json": {
       "model_id": "62e4c316f08f412fbbfec2861e74b132",
       "version_major": 2,
       "version_minor": 0
      },
      "text/plain": [
       "HBox(children=(IntProgress(value=0, max=40), HTML(value='')))"
      ]
     },
     "metadata": {},
     "output_type": "display_data"
    },
    {
     "data": {
      "application/vnd.jupyter.widget-view+json": {
       "model_id": "a07fa8f63d5044e2b62896059f980da2",
       "version_major": 2,
       "version_minor": 0
      },
      "text/plain": [
       "HBox(children=(IntProgress(value=0, max=32), HTML(value='')))"
      ]
     },
     "metadata": {},
     "output_type": "display_data"
    },
    {
     "data": {
      "application/vnd.jupyter.widget-view+json": {
       "model_id": "051a7d66346e48cd9e2b2606340062bd",
       "version_major": 2,
       "version_minor": 0
      },
      "text/plain": [
       "HBox(children=(IntProgress(value=0, max=157), HTML(value='')))"
      ]
     },
     "metadata": {},
     "output_type": "display_data"
    },
    {
     "name": "stdout",
     "output_type": "stream",
     "text": [
      "\n"
     ]
    }
   ],
   "source": [
    "users = ['calebhicks', 'SteveMartinToGo', 'sadserver']\n",
    "\n",
    "with APP.app_context():\n",
    "    add_users(users)"
   ]
  },
  {
   "cell_type": "markdown",
   "metadata": {},
   "source": [
    "# 3. Update all users"
   ]
  },
  {
   "cell_type": "code",
   "execution_count": 21,
   "metadata": {},
   "outputs": [],
   "source": [
    "def update_all_users():\n",
    "    \"\"\"Update all Tweets for all Users in the User table.\"\"\"\n",
    "    # tqdm adds progress bar\n",
    "    for user in tqdm(User.query.all()):\n",
    "        add_or_update_user(user.name)"
   ]
  },
  {
   "cell_type": "code",
   "execution_count": 22,
   "metadata": {},
   "outputs": [
    {
     "data": {
      "application/vnd.jupyter.widget-view+json": {
       "model_id": "46429001b33b474eb3da8e38df4963c1",
       "version_major": 2,
       "version_minor": 0
      },
      "text/plain": [
       "HBox(children=(IntProgress(value=0, max=6), HTML(value='')))"
      ]
     },
     "metadata": {},
     "output_type": "display_data"
    },
    {
     "data": {
      "application/vnd.jupyter.widget-view+json": {
       "model_id": "6e0baf0ff1a14d0bb53e974ebd895b9b",
       "version_major": 2,
       "version_minor": 0
      },
      "text/plain": [
       "HBox(children=(IntProgress(value=1, bar_style='info', max=1), HTML(value='')))"
      ]
     },
     "metadata": {},
     "output_type": "display_data"
    },
    {
     "data": {
      "application/vnd.jupyter.widget-view+json": {
       "model_id": "fad60d66a4a742e5b25de99d5455d381",
       "version_major": 2,
       "version_minor": 0
      },
      "text/plain": [
       "HBox(children=(IntProgress(value=0, max=1), HTML(value='')))"
      ]
     },
     "metadata": {},
     "output_type": "display_data"
    },
    {
     "data": {
      "application/vnd.jupyter.widget-view+json": {
       "model_id": "aee21291dced40dea3d545ff55173909",
       "version_major": 2,
       "version_minor": 0
      },
      "text/plain": [
       "HBox(children=(IntProgress(value=0, max=1), HTML(value='')))"
      ]
     },
     "metadata": {},
     "output_type": "display_data"
    },
    {
     "data": {
      "application/vnd.jupyter.widget-view+json": {
       "model_id": "1d493ce2a81f454684f818b5f3534c5a",
       "version_major": 2,
       "version_minor": 0
      },
      "text/plain": [
       "HBox(children=(IntProgress(value=1, bar_style='info', max=1), HTML(value='')))"
      ]
     },
     "metadata": {},
     "output_type": "display_data"
    },
    {
     "data": {
      "application/vnd.jupyter.widget-view+json": {
       "model_id": "fa076912d8414f9486b01d8b233993eb",
       "version_major": 2,
       "version_minor": 0
      },
      "text/plain": [
       "HBox(children=(IntProgress(value=1, bar_style='info', max=1), HTML(value='')))"
      ]
     },
     "metadata": {},
     "output_type": "display_data"
    },
    {
     "data": {
      "application/vnd.jupyter.widget-view+json": {
       "model_id": "294a77a12ad341109284e260c9c63688",
       "version_major": 2,
       "version_minor": 0
      },
      "text/plain": [
       "HBox(children=(IntProgress(value=1, bar_style='info', max=1), HTML(value='')))"
      ]
     },
     "metadata": {},
     "output_type": "display_data"
    },
    {
     "name": "stdout",
     "output_type": "stream",
     "text": [
      "\n"
     ]
    }
   ],
   "source": [
    "with APP.app_context():\n",
    "    update_all_users()"
   ]
  },
  {
   "cell_type": "markdown",
   "metadata": {},
   "source": [
    "# ASSIGNMENT\n",
    "\n",
    "#### Add these functions to your Flask app\n",
    "- Put `add_or_update_user`, `add_users`, and `update_all_users` in `twitter.py`\n",
    "- Remove the `tqdm` progress bars from the for loops\n",
    "- Import the functions in `app.py`\n",
    "\n",
    "#### Replace your `/user/<name>` route with these routes\n",
    "\n",
    "```\n",
    "    @app.route('/user', methods=['POST'])\n",
    "    @app.route('/user/<name>', methods=['GET'])\n",
    "    def user(name=None, message=''):\n",
    "        name = name or request.values['user_name']\n",
    "        try:\n",
    "            if request.method == 'POST':\n",
    "                add_or_update_user(name)\n",
    "                message = \"User {} successfully added!\".format(name)\n",
    "            tweets = User.query.filter(User.name == name).one().tweets\n",
    "        except Exception as e:\n",
    "            message = \"Error adding {}: {}\".format(name, e)\n",
    "            tweets = []\n",
    "        return render_template('user.html', title=name, tweets=tweets,\n",
    "                               message=message)\n",
    "```\n",
    "\n",
    "***You will also need to add this import to the top of the file:*** `from flask import request`\n",
    "\n",
    "#### Add an `/update` route\n",
    "\n",
    "It should be like the Root route. But first, it should call your function to update all users. And it can display an appropriate title on the page, such as \"All tweets updated!\""
   ]
  },
  {
   "cell_type": "markdown",
   "metadata": {},
   "source": [
    "# 4. Predict!"
   ]
  },
  {
   "cell_type": "code",
   "execution_count": 23,
   "metadata": {},
   "outputs": [],
   "source": [
    "import numpy as np\n",
    "from sklearn.linear_model import LogisticRegression"
   ]
  },
  {
   "cell_type": "code",
   "execution_count": 24,
   "metadata": {},
   "outputs": [],
   "source": [
    "user1_name = 'Austen'\n",
    "user2_name = 'elonmusk'"
   ]
  },
  {
   "cell_type": "code",
   "execution_count": 25,
   "metadata": {},
   "outputs": [],
   "source": [
    "with APP.app_context():\n",
    "    user1 = User.query.filter(User.name == user1_name).one()\n",
    "    user2 = User.query.filter(User.name == user2_name).one()\n",
    "    user1_embeddings = np.array([tweet.embedding for tweet in user1.tweets]) # embeddings are features\n",
    "    user2_embeddings = np.array([tweet.embedding for tweet in user2.tweets])\n",
    "    user1_labels = np.ones(len(user1.tweets))\n",
    "    user2_labels = np.zeros(len(user2.tweets))"
   ]
  },
  {
   "cell_type": "code",
   "execution_count": 26,
   "metadata": {},
   "outputs": [
    {
     "data": {
      "text/plain": [
       "((42, 768), (26, 768), (42,), (26,))"
      ]
     },
     "execution_count": 26,
     "metadata": {},
     "output_type": "execute_result"
    }
   ],
   "source": [
    "user1_embeddings.shape, user2_embeddings.shape, user1_labels.shape, user2_labels.shape"
   ]
  },
  {
   "cell_type": "code",
   "execution_count": 27,
   "metadata": {},
   "outputs": [
    {
     "data": {
      "text/plain": [
       "array([[-0.278793 , -0.0213064,  0.622787 , ...,  0.343396 ,  0.168306 ,\n",
       "        -0.123144 ],\n",
       "       [-0.090851 , -0.0625477,  1.37717  , ...,  0.405808 ,  0.215948 ,\n",
       "         0.174075 ],\n",
       "       [-0.319221 ,  0.0896027,  0.27425  , ...,  0.477608 ,  0.28175  ,\n",
       "        -0.423082 ],\n",
       "       ...,\n",
       "       [-0.077622 , -0.1209   ,  1.46849  , ...,  0.667721 ,  0.171243 ,\n",
       "         0.0976864],\n",
       "       [-0.196201 , -0.176055 ,  0.619098 , ...,  0.217561 ,  0.334227 ,\n",
       "        -0.453518 ],\n",
       "       [-0.497767 , -0.144107 ,  0.732214 , ...,  0.698558 ,  0.384014 ,\n",
       "         0.664497 ]])"
      ]
     },
     "execution_count": 27,
     "metadata": {},
     "output_type": "execute_result"
    }
   ],
   "source": [
    "user1_embeddings"
   ]
  },
  {
   "cell_type": "code",
   "execution_count": 28,
   "metadata": {},
   "outputs": [
    {
     "data": {
      "text/plain": [
       "array([1., 1., 1., 1., 1., 1., 1., 1., 1., 1., 1., 1., 1., 1., 1., 1., 1.,\n",
       "       1., 1., 1., 1., 1., 1., 1., 1., 1., 1., 1., 1., 1., 1., 1., 1., 1.,\n",
       "       1., 1., 1., 1., 1., 1., 1., 1.])"
      ]
     },
     "execution_count": 28,
     "metadata": {},
     "output_type": "execute_result"
    }
   ],
   "source": [
    "user1_labels"
   ]
  },
  {
   "cell_type": "code",
   "execution_count": 29,
   "metadata": {},
   "outputs": [
    {
     "data": {
      "text/plain": [
       "array([[-0.0939891, -0.0589629,  0.661137 , ...,  0.867942 ,  0.442749 ,\n",
       "        -0.166158 ],\n",
       "       [-0.488076 , -0.342566 ,  0.849732 , ...,  0.611597 ,  0.256545 ,\n",
       "         0.131419 ],\n",
       "       [-0.355265 , -0.0888007,  1.3744   , ...,  0.827497 ,  0.188297 ,\n",
       "        -0.0391178],\n",
       "       ...,\n",
       "       [-0.160194 , -0.400693 ,  1.10744  , ...,  0.644567 ,  0.0514417,\n",
       "        -0.0711063],\n",
       "       [-0.176499 , -0.113999 ,  1.26159  , ...,  0.725719 ,  0.210874 ,\n",
       "         0.153916 ],\n",
       "       [ 0.028382 , -0.307194 ,  1.22586  , ...,  0.765186 ,  0.344312 ,\n",
       "        -0.03183  ]])"
      ]
     },
     "execution_count": 29,
     "metadata": {},
     "output_type": "execute_result"
    }
   ],
   "source": [
    "user2_embeddings"
   ]
  },
  {
   "cell_type": "code",
   "execution_count": 30,
   "metadata": {},
   "outputs": [
    {
     "data": {
      "text/plain": [
       "array([0., 0., 0., 0., 0., 0., 0., 0., 0., 0., 0., 0., 0., 0., 0., 0., 0.,\n",
       "       0., 0., 0., 0., 0., 0., 0., 0., 0.])"
      ]
     },
     "execution_count": 30,
     "metadata": {},
     "output_type": "execute_result"
    }
   ],
   "source": [
    "user2_labels"
   ]
  },
  {
   "cell_type": "code",
   "execution_count": 31,
   "metadata": {},
   "outputs": [
    {
     "data": {
      "text/plain": [
       "((68, 768), (68,))"
      ]
     },
     "execution_count": 31,
     "metadata": {},
     "output_type": "execute_result"
    }
   ],
   "source": [
    "embeddings = np.vstack([user1_embeddings, user2_embeddings]) # imagine as \"x\"\n",
    "labels = np.concatenate([user1_labels, user2_labels]) #\"y\"\n",
    "\n",
    "embeddings.shape, labels.shape"
   ]
  },
  {
   "cell_type": "code",
   "execution_count": 32,
   "metadata": {},
   "outputs": [
    {
     "data": {
      "text/plain": [
       "LogisticRegression(C=1.0, class_weight=None, dual=False, fit_intercept=True,\n",
       "          intercept_scaling=1, max_iter=1000, multi_class='warn',\n",
       "          n_jobs=None, penalty='l2', random_state=None, solver='lbfgs',\n",
       "          tol=0.0001, verbose=0, warm_start=False)"
      ]
     },
     "execution_count": 32,
     "metadata": {},
     "output_type": "execute_result"
    }
   ],
   "source": [
    "log_reg = LogisticRegression(solver='lbfgs', max_iter=1000)\n",
    "log_reg.fit(embeddings, labels)"
   ]
  },
  {
   "cell_type": "code",
   "execution_count": 33,
   "metadata": {},
   "outputs": [
    {
     "data": {
      "text/plain": [
       "1.0"
      ]
     },
     "execution_count": 33,
     "metadata": {},
     "output_type": "execute_result"
    }
   ],
   "source": [
    "log_reg.score(embeddings, labels) # getting 100% accuracy, which is an error"
   ]
  },
  {
   "cell_type": "code",
   "execution_count": 34,
   "metadata": {},
   "outputs": [
    {
     "data": {
      "text/plain": [
       "array([0.65217391, 0.82608696, 0.68181818])"
      ]
     },
     "execution_count": 34,
     "metadata": {},
     "output_type": "execute_result"
    }
   ],
   "source": [
    "from sklearn.model_selection import cross_val_score\n",
    "cross_val_score(log_reg, embeddings, labels, cv=3)"
   ]
  },
  {
   "cell_type": "code",
   "execution_count": 35,
   "metadata": {},
   "outputs": [
    {
     "data": {
      "text/plain": [
       "array([1.])"
      ]
     },
     "execution_count": 35,
     "metadata": {},
     "output_type": "execute_result"
    }
   ],
   "source": [
    "tweet_text = 'Income Share Agreements align incentives. Welcome to the future of education.'\n",
    "tweet_embedding = BASILICA.embed_sentence(tweet_text, model='twitter')\n",
    "log_reg.predict(np.array(tweet_embedding).reshape(1, -1))"
   ]
  },
  {
   "cell_type": "code",
   "execution_count": 36,
   "metadata": {},
   "outputs": [
    {
     "data": {
      "text/plain": [
       "array([[0.01421055, 0.98578945]])"
      ]
     },
     "execution_count": 36,
     "metadata": {},
     "output_type": "execute_result"
    }
   ],
   "source": [
    "log_reg.predict_proba(np.array(tweet_embedding).reshape(1, -1))"
   ]
  },
  {
   "cell_type": "code",
   "execution_count": 37,
   "metadata": {},
   "outputs": [
    {
     "data": {
      "text/plain": [
       "array([0.])"
      ]
     },
     "execution_count": 37,
     "metadata": {},
     "output_type": "execute_result"
    }
   ],
   "source": [
    "tweet_text = 'SpaceX will launch another Tesla into orbit'\n",
    "tweet_embedding = BASILICA.embed_sentence(tweet_text, model='twitter')\n",
    "log_reg.predict(np.array(tweet_embedding).reshape(1, -1))"
   ]
  },
  {
   "cell_type": "code",
   "execution_count": 38,
   "metadata": {},
   "outputs": [
    {
     "data": {
      "text/plain": [
       "array([[0.9641761, 0.0358239]])"
      ]
     },
     "execution_count": 38,
     "metadata": {},
     "output_type": "execute_result"
    }
   ],
   "source": [
    "log_reg.predict_proba(np.array(tweet_embedding).reshape(1, -1))"
   ]
  },
  {
   "cell_type": "code",
   "execution_count": 39,
   "metadata": {},
   "outputs": [
    {
     "data": {
      "text/plain": [
       "array([[0.72481935, 0.27518065]])"
      ]
     },
     "execution_count": 39,
     "metadata": {},
     "output_type": "execute_result"
    }
   ],
   "source": [
    "tweet_text = 'Today we launch a new initiative'\n",
    "tweet_embedding = BASILICA.embed_sentence(tweet_text, model='twitter')\n",
    "log_reg.predict_proba(np.array(tweet_embedding).reshape(1, -1))"
   ]
  },
  {
   "cell_type": "code",
   "execution_count": 41,
   "metadata": {},
   "outputs": [
    {
     "data": {
      "text/plain": [
       "(768,)"
      ]
     },
     "execution_count": 41,
     "metadata": {},
     "output_type": "execute_result"
    }
   ],
   "source": [
    "np.array(tweet_embedding).shape"
   ]
  },
  {
   "cell_type": "code",
   "execution_count": 42,
   "metadata": {},
   "outputs": [
    {
     "data": {
      "text/plain": [
       "(1, 768)"
      ]
     },
     "execution_count": 42,
     "metadata": {},
     "output_type": "execute_result"
    }
   ],
   "source": [
    "np.array(tweet_embedding).reshape(1, -1).shape"
   ]
  },
  {
   "cell_type": "code",
   "execution_count": 43,
   "metadata": {},
   "outputs": [
    {
     "data": {
      "text/plain": [
       "(1, 768)"
      ]
     },
     "execution_count": 43,
     "metadata": {},
     "output_type": "execute_result"
    }
   ],
   "source": [
    "np.array([tweet_embedding]).shape  # putting list in a list"
   ]
  },
  {
   "cell_type": "markdown",
   "metadata": {},
   "source": [
    "# ASSIGNMENT\n",
    "\n",
    "### Create `TwitOff/twitoff/predict.py`\n",
    "\n",
    "Refactor the notebook code into a function, named `predict_user`.\n",
    "\n",
    "The code you need is already here. You just need to put it in a function in a `.py` file.\n",
    "\n",
    "The function should take three strings as parameters:\n",
    "- User 1 name\n",
    "- User 2 name\n",
    "- Tweet text\n",
    "\n",
    "The function should determine and return which user is more likely to say a given tweet. (`return log_reg.predict(...)`)\n",
    "\n",
    "Import what you need from `numpy`, `sklearn`, and your `.models` and `.twitter` modules.\n",
    "\n",
    "### Add this `/compare` route\n",
    "\n",
    "```\n",
    "    @app.route('/compare', methods=['POST'])\n",
    "    def compare(message=''):\n",
    "        user1, user2 = sorted([request.values['user1'],\n",
    "                               request.values['user2']])\n",
    "        if user1 == user2:\n",
    "            message = 'Cannot compare a user to themselves!'\n",
    "        else:\n",
    "            prediction = predict_user(user1, user2, request.values['tweet_text'])\n",
    "            message = '\"{}\" is more likely to be said by {} than {}'.format(\n",
    "                request.values['tweet_text'], user1 if prediction else user2,\n",
    "                user2 if prediction else user1)\n",
    "        return render_template('prediction.html', title='Prediction', message=message)\n",
    "```\n",
    "\n",
    "***You will also need to add this import to the top of the file:*** `from .predict import predict_user`"
   ]
  }
 ],
 "metadata": {
  "kernelspec": {
   "display_name": "Python 3",
   "language": "python",
   "name": "python3"
  },
  "language_info": {
   "codemirror_mode": {
    "name": "ipython",
    "version": 3
   },
   "file_extension": ".py",
   "mimetype": "text/x-python",
   "name": "python",
   "nbconvert_exporter": "python",
   "pygments_lexer": "ipython3",
   "version": "3.7.1"
  }
 },
 "nbformat": 4,
 "nbformat_minor": 2
}
